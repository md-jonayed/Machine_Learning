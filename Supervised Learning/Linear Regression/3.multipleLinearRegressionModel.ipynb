{
 "cells": [
  {
   "cell_type": "markdown",
   "metadata": {},
   "source": [
    "here we will build a model using sklearn library"
   ]
  },
  {
   "cell_type": "code",
   "execution_count": 35,
   "metadata": {},
   "outputs": [],
   "source": [
    "from sklearn.datasets import make_regression\n",
    "import pandas as pd\n",
    "import numpy as np\n",
    "import plotly.express as px\n",
    "import plotly.graph_objects as go"
   ]
  },
  {
   "cell_type": "code",
   "execution_count": 36,
   "metadata": {},
   "outputs": [],
   "source": [
    "from sklearn.metrics import mean_absolute_error,mean_squared_error,r2_score"
   ]
  },
  {
   "cell_type": "code",
   "execution_count": 37,
   "metadata": {},
   "outputs": [
    {
     "data": {
      "text/html": [
       "<div>\n",
       "<style scoped>\n",
       "    .dataframe tbody tr th:only-of-type {\n",
       "        vertical-align: middle;\n",
       "    }\n",
       "\n",
       "    .dataframe tbody tr th {\n",
       "        vertical-align: top;\n",
       "    }\n",
       "\n",
       "    .dataframe thead th {\n",
       "        text-align: right;\n",
       "    }\n",
       "</style>\n",
       "<table border=\"1\" class=\"dataframe\">\n",
       "  <thead>\n",
       "    <tr style=\"text-align: right;\">\n",
       "      <th></th>\n",
       "      <th>feature1</th>\n",
       "      <th>feature2</th>\n",
       "      <th>target</th>\n",
       "    </tr>\n",
       "  </thead>\n",
       "  <tbody>\n",
       "    <tr>\n",
       "      <th>0</th>\n",
       "      <td>1.469698</td>\n",
       "      <td>1.536520</td>\n",
       "      <td>131.489464</td>\n",
       "    </tr>\n",
       "    <tr>\n",
       "      <th>1</th>\n",
       "      <td>0.149902</td>\n",
       "      <td>-0.127074</td>\n",
       "      <td>-56.325603</td>\n",
       "    </tr>\n",
       "    <tr>\n",
       "      <th>2</th>\n",
       "      <td>-2.434450</td>\n",
       "      <td>0.091451</td>\n",
       "      <td>-119.951170</td>\n",
       "    </tr>\n",
       "    <tr>\n",
       "      <th>3</th>\n",
       "      <td>-0.106632</td>\n",
       "      <td>-0.303237</td>\n",
       "      <td>-112.442184</td>\n",
       "    </tr>\n",
       "    <tr>\n",
       "      <th>4</th>\n",
       "      <td>-1.776171</td>\n",
       "      <td>0.684779</td>\n",
       "      <td>-19.532936</td>\n",
       "    </tr>\n",
       "  </tbody>\n",
       "</table>\n",
       "</div>"
      ],
      "text/plain": [
       "   feature1  feature2      target\n",
       "0  1.469698  1.536520  131.489464\n",
       "1  0.149902 -0.127074  -56.325603\n",
       "2 -2.434450  0.091451 -119.951170\n",
       "3 -0.106632 -0.303237 -112.442184\n",
       "4 -1.776171  0.684779  -19.532936"
      ]
     },
     "execution_count": 37,
     "metadata": {},
     "output_type": "execute_result"
    }
   ],
   "source": [
    "#making a dataset\n",
    "x,y = make_regression(n_samples=100,n_features=2,n_informative=2,n_targets=1,noise=50)\n",
    "df=pd.DataFrame({'feature1':x[:,0],'feature2':x[:,1],'target':y})\n",
    "df.head()\n"
   ]
  },
  {
   "cell_type": "code",
   "execution_count": 38,
   "metadata": {},
   "outputs": [
    {
     "data": {
      "text/plain": [
       "(100, 3)"
      ]
     },
     "execution_count": 38,
     "metadata": {},
     "output_type": "execute_result"
    }
   ],
   "source": [
    "df.shape"
   ]
  },
  {
   "cell_type": "code",
   "execution_count": 39,
   "metadata": {},
   "outputs": [
    {
     "data": {
      "application/vnd.plotly.v1+json": {
       "config": {
        "plotlyServerURL": "https://plot.ly"
       },
       "data": [
        {
         "hovertemplate": "feature1=%{x}<br>feature2=%{y}<br>target=%{z}<extra></extra>",
         "legendgroup": "",
         "marker": {
          "color": "#636efa",
          "symbol": "circle"
         },
         "mode": "markers",
         "name": "",
         "scene": "scene",
         "showlegend": false,
         "type": "scatter3d",
         "x": [
          1.469697906634573,
          0.14990158823652688,
          -2.4344498076802563,
          -0.10663174354257987,
          -1.7761706688010168,
          -0.9177948676086268,
          -0.48524397694237936,
          1.3232176288483397,
          0.34316938753925774,
          -0.5164592381668976,
          1.4494757475147766,
          0.3334462986620894,
          -0.06224655986952846,
          1.3618184356141045,
          0.06066687176804371,
          2.141439491013982,
          0.7739724054231405,
          1.0507769488132508,
          -0.24795634967711622,
          1.957117044273009,
          1.3771553410308608,
          0.3658962833752713,
          -0.9990189777559377,
          0.7048737175339425,
          0.9326595396825699,
          -0.40986553152862315,
          -1.5013569622988403,
          0.22856390220978623,
          1.0199846994557493,
          -1.768205066897764,
          1.3711117550060234,
          1.2547582142480527,
          -0.8126421636388389,
          1.7996731053516808,
          -0.0004433160823895964,
          0.8630899578048923,
          0.16841038068654646,
          0.9485866788404453,
          -0.7672557724754966,
          0.7450155360397174,
          1.0804973175418708,
          -1.5574141866865572,
          -0.07157608920861963,
          -0.13206091616219187,
          -0.39378644841469157,
          -0.003938147693268198,
          -0.10638736995597842,
          -0.31061334213471936,
          0.6226986551422221,
          -0.48091710425741657,
          1.6122513828728076,
          -0.9360429686299205,
          -0.37496210970588173,
          0.266802472764621,
          1.0257526213038213,
          -0.10250957956662606,
          1.2005406320816447,
          -0.685456194243791,
          0.5206517357639449,
          0.8571806315827183,
          0.16150794040631314,
          0.045178274635540874,
          0.9460931607524801,
          0.0010259660457222106,
          -1.4877769230889142,
          -0.5904497259394376,
          0.5577704532878258,
          -0.18488657721519017,
          -0.04898257441043687,
          0.3115608548247738,
          -0.6387087897286473,
          -1.022163799350242,
          1.0814487834269755,
          1.3081981351596959,
          -1.3757408624549852,
          0.648119831952131,
          0.0393526452607103,
          0.05615217992957957,
          -0.8262560532741231,
          0.6755028006345413,
          0.6745558213476122,
          0.20898201538048455,
          -1.7001338759652773,
          -1.3704208136921077,
          -0.5835701919330373,
          -0.29080656227754764,
          0.3222140395110738,
          -0.535689523293787,
          -0.06056139175196914,
          -1.5672237269909872,
          1.8712278794698873,
          1.1339641339666469,
          0.08478867951014704,
          -0.887596190427063,
          -0.7348719819639584,
          1.222348994091761,
          2.174917309255586,
          -0.6615513175551897,
          1.6807986917708864,
          0.9702091615016518
         ],
         "y": [
          1.5365196165324457,
          -0.12707402929324818,
          0.09145095587224589,
          -0.30323682683859726,
          0.684778927828983,
          -1.4381578461039275,
          -0.6733547836135716,
          0.09294069474091987,
          -1.4292698383009215,
          -0.33897211271327754,
          -0.5895025202572256,
          -0.16714669281783584,
          0.6692808554267008,
          -0.22706866453673383,
          -0.6796275203227781,
          0.1597518756625857,
          -1.1979173781293517,
          0.3802200638634238,
          -0.4484288596723259,
          0.24880204625778335,
          -0.31275335926398495,
          0.8450906369131933,
          -0.2298470459298701,
          -1.1752275527952127,
          -1.0027474549170345,
          1.505426381341865,
          1.3315576976465777,
          -0.8961910213394729,
          -0.45000003366080515,
          -0.04332089079086139,
          -0.6875092069978458,
          -0.09579964411681512,
          -0.11398069926980776,
          2.4416283398185525,
          0.4899507958494985,
          1.2428366093251515,
          -0.6633004791803712,
          -0.5505963263027208,
          -1.2851555542288302,
          0.3849347846213028,
          -0.18094581539792273,
          1.5100528945622747,
          -0.7723150516624225,
          0.2558876721782829,
          1.7802976979613356,
          -0.6321801110347874,
          -0.8767935677801905,
          1.2646990679229795,
          -1.244863868836703,
          -0.05622870271274382,
          -0.5549188826164774,
          -1.6511013049362298,
          0.01875766026833472,
          -1.4127638408091248,
          0.7828124871911127,
          -0.16487859784421344,
          -0.6857206606048611,
          0.6352811618615354,
          -0.7112319442826888,
          2.1233562005067608,
          0.15278686400815125,
          -1.1766923416255342,
          -0.7685996433981714,
          2.2543616992936895,
          1.4252253678033033,
          1.7367299363236823,
          0.832399160408161,
          -0.5078927633200512,
          0.0012383015062101851,
          0.8441168640751495,
          0.4282082157366332,
          -1.37562980576984,
          2.801826224114994,
          0.011543212264672614,
          -1.4331568610918555,
          -1.6624447749197415,
          0.7588691413367213,
          1.114682396339534,
          -1.5792742353543334,
          0.03730722030718527,
          -0.19602254165794647,
          0.9555362440530598,
          0.7045627007143929,
          -0.18927674177223683,
          -0.1033398596566359,
          -1.4249104190953363,
          -1.0453593565434098,
          -1.610806245941949,
          2.2854558278302166,
          0.8242008576081548,
          -0.3662830473202931,
          -0.20144560080054136,
          -0.4994257606619406,
          0.4108588768019553,
          1.1160497147623387,
          -2.313581396876026,
          -0.35595187047548427,
          0.4184305539992206,
          0.17049411703316414,
          1.1143503640522765
         ],
         "z": [
          131.4894644691009,
          -56.32560260418288,
          -119.95117005049072,
          -112.44218370473261,
          -19.53293576332218,
          -98.30576334227415,
          -81.03610370762921,
          -2.034775110523867,
          59.983788578987586,
          -78.12117186135283,
          -5.3850227546835825,
          -10.936483763697856,
          22.14939721575103,
          16.922350949633298,
          -105.93300485839008,
          189.10299510243817,
          -41.974166659596975,
          60.016179287518135,
          12.251979790029019,
          89.68828614759634,
          132.4408576001153,
          53.70515324358654,
          -19.314299238605386,
          -33.333423786113364,
          -20.753655820506363,
          33.15236673351321,
          -83.9456711601549,
          -56.6045264642089,
          70.28921061813517,
          -160.8104972585763,
          65.98538929881349,
          50.12175978085567,
          -66.92658473151826,
          57.049822004365396,
          32.72674850274886,
          141.130375804432,
          -40.23954964325476,
          24.51167006649498,
          -21.535166102509884,
          118.43138626078246,
          52.49983872252719,
          -60.06798767865526,
          -69.53409004309053,
          -59.53566220688441,
          104.63336863738544,
          -8.347858069157015,
          -59.969134816547296,
          61.0987195148423,
          -65.19892779051142,
          -18.52797451776109,
          68.67091368621423,
          -130.08306611427247,
          9.811620824557586,
          -41.893692743252195,
          84.9247677015006,
          46.705768149228966,
          82.97620240345819,
          51.32861934322573,
          -44.279687935383734,
          124.6397871932517,
          10.606200155306269,
          -14.148876144699036,
          8.857053268458177,
          78.04772445196608,
          0.701608795995277,
          -10.839871452642141,
          35.560918846156895,
          -80.85124397592516,
          15.471085009819044,
          97.7152970135626,
          6.643292720097769,
          -132.75537644903892,
          70.06093396145569,
          101.58346012697467,
          -111.51093266224682,
          -32.140776099631886,
          40.619121305378684,
          43.47863069165223,
          64.15149455765703,
          18.567546695826046,
          16.38079895742429,
          59.68650230334113,
          -76.36336708611991,
          -157.55974106564258,
          -60.62573267040685,
          10.454082007127539,
          58.35788713892113,
          -60.891917033552225,
          18.644639900803654,
          -33.550443564731026,
          138.1933206090498,
          48.42518809341799,
          -38.97956784160975,
          45.018775075629144,
          48.07703155251828,
          58.37666177158098,
          2.231928452088553,
          -41.04561982142986,
          169.87255570461397,
          131.82139096645392
         ]
        }
       ],
       "layout": {
        "legend": {
         "tracegroupgap": 0
        },
        "margin": {
         "t": 60
        },
        "scene": {
         "domain": {
          "x": [
           0,
           1
          ],
          "y": [
           0,
           1
          ]
         },
         "xaxis": {
          "title": {
           "text": "feature1"
          }
         },
         "yaxis": {
          "title": {
           "text": "feature2"
          }
         },
         "zaxis": {
          "title": {
           "text": "target"
          }
         }
        },
        "template": {
         "data": {
          "bar": [
           {
            "error_x": {
             "color": "#2a3f5f"
            },
            "error_y": {
             "color": "#2a3f5f"
            },
            "marker": {
             "line": {
              "color": "#E5ECF6",
              "width": 0.5
             },
             "pattern": {
              "fillmode": "overlay",
              "size": 10,
              "solidity": 0.2
             }
            },
            "type": "bar"
           }
          ],
          "barpolar": [
           {
            "marker": {
             "line": {
              "color": "#E5ECF6",
              "width": 0.5
             },
             "pattern": {
              "fillmode": "overlay",
              "size": 10,
              "solidity": 0.2
             }
            },
            "type": "barpolar"
           }
          ],
          "carpet": [
           {
            "aaxis": {
             "endlinecolor": "#2a3f5f",
             "gridcolor": "white",
             "linecolor": "white",
             "minorgridcolor": "white",
             "startlinecolor": "#2a3f5f"
            },
            "baxis": {
             "endlinecolor": "#2a3f5f",
             "gridcolor": "white",
             "linecolor": "white",
             "minorgridcolor": "white",
             "startlinecolor": "#2a3f5f"
            },
            "type": "carpet"
           }
          ],
          "choropleth": [
           {
            "colorbar": {
             "outlinewidth": 0,
             "ticks": ""
            },
            "type": "choropleth"
           }
          ],
          "contour": [
           {
            "colorbar": {
             "outlinewidth": 0,
             "ticks": ""
            },
            "colorscale": [
             [
              0,
              "#0d0887"
             ],
             [
              0.1111111111111111,
              "#46039f"
             ],
             [
              0.2222222222222222,
              "#7201a8"
             ],
             [
              0.3333333333333333,
              "#9c179e"
             ],
             [
              0.4444444444444444,
              "#bd3786"
             ],
             [
              0.5555555555555556,
              "#d8576b"
             ],
             [
              0.6666666666666666,
              "#ed7953"
             ],
             [
              0.7777777777777778,
              "#fb9f3a"
             ],
             [
              0.8888888888888888,
              "#fdca26"
             ],
             [
              1,
              "#f0f921"
             ]
            ],
            "type": "contour"
           }
          ],
          "contourcarpet": [
           {
            "colorbar": {
             "outlinewidth": 0,
             "ticks": ""
            },
            "type": "contourcarpet"
           }
          ],
          "heatmap": [
           {
            "colorbar": {
             "outlinewidth": 0,
             "ticks": ""
            },
            "colorscale": [
             [
              0,
              "#0d0887"
             ],
             [
              0.1111111111111111,
              "#46039f"
             ],
             [
              0.2222222222222222,
              "#7201a8"
             ],
             [
              0.3333333333333333,
              "#9c179e"
             ],
             [
              0.4444444444444444,
              "#bd3786"
             ],
             [
              0.5555555555555556,
              "#d8576b"
             ],
             [
              0.6666666666666666,
              "#ed7953"
             ],
             [
              0.7777777777777778,
              "#fb9f3a"
             ],
             [
              0.8888888888888888,
              "#fdca26"
             ],
             [
              1,
              "#f0f921"
             ]
            ],
            "type": "heatmap"
           }
          ],
          "heatmapgl": [
           {
            "colorbar": {
             "outlinewidth": 0,
             "ticks": ""
            },
            "colorscale": [
             [
              0,
              "#0d0887"
             ],
             [
              0.1111111111111111,
              "#46039f"
             ],
             [
              0.2222222222222222,
              "#7201a8"
             ],
             [
              0.3333333333333333,
              "#9c179e"
             ],
             [
              0.4444444444444444,
              "#bd3786"
             ],
             [
              0.5555555555555556,
              "#d8576b"
             ],
             [
              0.6666666666666666,
              "#ed7953"
             ],
             [
              0.7777777777777778,
              "#fb9f3a"
             ],
             [
              0.8888888888888888,
              "#fdca26"
             ],
             [
              1,
              "#f0f921"
             ]
            ],
            "type": "heatmapgl"
           }
          ],
          "histogram": [
           {
            "marker": {
             "pattern": {
              "fillmode": "overlay",
              "size": 10,
              "solidity": 0.2
             }
            },
            "type": "histogram"
           }
          ],
          "histogram2d": [
           {
            "colorbar": {
             "outlinewidth": 0,
             "ticks": ""
            },
            "colorscale": [
             [
              0,
              "#0d0887"
             ],
             [
              0.1111111111111111,
              "#46039f"
             ],
             [
              0.2222222222222222,
              "#7201a8"
             ],
             [
              0.3333333333333333,
              "#9c179e"
             ],
             [
              0.4444444444444444,
              "#bd3786"
             ],
             [
              0.5555555555555556,
              "#d8576b"
             ],
             [
              0.6666666666666666,
              "#ed7953"
             ],
             [
              0.7777777777777778,
              "#fb9f3a"
             ],
             [
              0.8888888888888888,
              "#fdca26"
             ],
             [
              1,
              "#f0f921"
             ]
            ],
            "type": "histogram2d"
           }
          ],
          "histogram2dcontour": [
           {
            "colorbar": {
             "outlinewidth": 0,
             "ticks": ""
            },
            "colorscale": [
             [
              0,
              "#0d0887"
             ],
             [
              0.1111111111111111,
              "#46039f"
             ],
             [
              0.2222222222222222,
              "#7201a8"
             ],
             [
              0.3333333333333333,
              "#9c179e"
             ],
             [
              0.4444444444444444,
              "#bd3786"
             ],
             [
              0.5555555555555556,
              "#d8576b"
             ],
             [
              0.6666666666666666,
              "#ed7953"
             ],
             [
              0.7777777777777778,
              "#fb9f3a"
             ],
             [
              0.8888888888888888,
              "#fdca26"
             ],
             [
              1,
              "#f0f921"
             ]
            ],
            "type": "histogram2dcontour"
           }
          ],
          "mesh3d": [
           {
            "colorbar": {
             "outlinewidth": 0,
             "ticks": ""
            },
            "type": "mesh3d"
           }
          ],
          "parcoords": [
           {
            "line": {
             "colorbar": {
              "outlinewidth": 0,
              "ticks": ""
             }
            },
            "type": "parcoords"
           }
          ],
          "pie": [
           {
            "automargin": true,
            "type": "pie"
           }
          ],
          "scatter": [
           {
            "fillpattern": {
             "fillmode": "overlay",
             "size": 10,
             "solidity": 0.2
            },
            "type": "scatter"
           }
          ],
          "scatter3d": [
           {
            "line": {
             "colorbar": {
              "outlinewidth": 0,
              "ticks": ""
             }
            },
            "marker": {
             "colorbar": {
              "outlinewidth": 0,
              "ticks": ""
             }
            },
            "type": "scatter3d"
           }
          ],
          "scattercarpet": [
           {
            "marker": {
             "colorbar": {
              "outlinewidth": 0,
              "ticks": ""
             }
            },
            "type": "scattercarpet"
           }
          ],
          "scattergeo": [
           {
            "marker": {
             "colorbar": {
              "outlinewidth": 0,
              "ticks": ""
             }
            },
            "type": "scattergeo"
           }
          ],
          "scattergl": [
           {
            "marker": {
             "colorbar": {
              "outlinewidth": 0,
              "ticks": ""
             }
            },
            "type": "scattergl"
           }
          ],
          "scattermapbox": [
           {
            "marker": {
             "colorbar": {
              "outlinewidth": 0,
              "ticks": ""
             }
            },
            "type": "scattermapbox"
           }
          ],
          "scatterpolar": [
           {
            "marker": {
             "colorbar": {
              "outlinewidth": 0,
              "ticks": ""
             }
            },
            "type": "scatterpolar"
           }
          ],
          "scatterpolargl": [
           {
            "marker": {
             "colorbar": {
              "outlinewidth": 0,
              "ticks": ""
             }
            },
            "type": "scatterpolargl"
           }
          ],
          "scatterternary": [
           {
            "marker": {
             "colorbar": {
              "outlinewidth": 0,
              "ticks": ""
             }
            },
            "type": "scatterternary"
           }
          ],
          "surface": [
           {
            "colorbar": {
             "outlinewidth": 0,
             "ticks": ""
            },
            "colorscale": [
             [
              0,
              "#0d0887"
             ],
             [
              0.1111111111111111,
              "#46039f"
             ],
             [
              0.2222222222222222,
              "#7201a8"
             ],
             [
              0.3333333333333333,
              "#9c179e"
             ],
             [
              0.4444444444444444,
              "#bd3786"
             ],
             [
              0.5555555555555556,
              "#d8576b"
             ],
             [
              0.6666666666666666,
              "#ed7953"
             ],
             [
              0.7777777777777778,
              "#fb9f3a"
             ],
             [
              0.8888888888888888,
              "#fdca26"
             ],
             [
              1,
              "#f0f921"
             ]
            ],
            "type": "surface"
           }
          ],
          "table": [
           {
            "cells": {
             "fill": {
              "color": "#EBF0F8"
             },
             "line": {
              "color": "white"
             }
            },
            "header": {
             "fill": {
              "color": "#C8D4E3"
             },
             "line": {
              "color": "white"
             }
            },
            "type": "table"
           }
          ]
         },
         "layout": {
          "annotationdefaults": {
           "arrowcolor": "#2a3f5f",
           "arrowhead": 0,
           "arrowwidth": 1
          },
          "autotypenumbers": "strict",
          "coloraxis": {
           "colorbar": {
            "outlinewidth": 0,
            "ticks": ""
           }
          },
          "colorscale": {
           "diverging": [
            [
             0,
             "#8e0152"
            ],
            [
             0.1,
             "#c51b7d"
            ],
            [
             0.2,
             "#de77ae"
            ],
            [
             0.3,
             "#f1b6da"
            ],
            [
             0.4,
             "#fde0ef"
            ],
            [
             0.5,
             "#f7f7f7"
            ],
            [
             0.6,
             "#e6f5d0"
            ],
            [
             0.7,
             "#b8e186"
            ],
            [
             0.8,
             "#7fbc41"
            ],
            [
             0.9,
             "#4d9221"
            ],
            [
             1,
             "#276419"
            ]
           ],
           "sequential": [
            [
             0,
             "#0d0887"
            ],
            [
             0.1111111111111111,
             "#46039f"
            ],
            [
             0.2222222222222222,
             "#7201a8"
            ],
            [
             0.3333333333333333,
             "#9c179e"
            ],
            [
             0.4444444444444444,
             "#bd3786"
            ],
            [
             0.5555555555555556,
             "#d8576b"
            ],
            [
             0.6666666666666666,
             "#ed7953"
            ],
            [
             0.7777777777777778,
             "#fb9f3a"
            ],
            [
             0.8888888888888888,
             "#fdca26"
            ],
            [
             1,
             "#f0f921"
            ]
           ],
           "sequentialminus": [
            [
             0,
             "#0d0887"
            ],
            [
             0.1111111111111111,
             "#46039f"
            ],
            [
             0.2222222222222222,
             "#7201a8"
            ],
            [
             0.3333333333333333,
             "#9c179e"
            ],
            [
             0.4444444444444444,
             "#bd3786"
            ],
            [
             0.5555555555555556,
             "#d8576b"
            ],
            [
             0.6666666666666666,
             "#ed7953"
            ],
            [
             0.7777777777777778,
             "#fb9f3a"
            ],
            [
             0.8888888888888888,
             "#fdca26"
            ],
            [
             1,
             "#f0f921"
            ]
           ]
          },
          "colorway": [
           "#636efa",
           "#EF553B",
           "#00cc96",
           "#ab63fa",
           "#FFA15A",
           "#19d3f3",
           "#FF6692",
           "#B6E880",
           "#FF97FF",
           "#FECB52"
          ],
          "font": {
           "color": "#2a3f5f"
          },
          "geo": {
           "bgcolor": "white",
           "lakecolor": "white",
           "landcolor": "#E5ECF6",
           "showlakes": true,
           "showland": true,
           "subunitcolor": "white"
          },
          "hoverlabel": {
           "align": "left"
          },
          "hovermode": "closest",
          "mapbox": {
           "style": "light"
          },
          "paper_bgcolor": "white",
          "plot_bgcolor": "#E5ECF6",
          "polar": {
           "angularaxis": {
            "gridcolor": "white",
            "linecolor": "white",
            "ticks": ""
           },
           "bgcolor": "#E5ECF6",
           "radialaxis": {
            "gridcolor": "white",
            "linecolor": "white",
            "ticks": ""
           }
          },
          "scene": {
           "xaxis": {
            "backgroundcolor": "#E5ECF6",
            "gridcolor": "white",
            "gridwidth": 2,
            "linecolor": "white",
            "showbackground": true,
            "ticks": "",
            "zerolinecolor": "white"
           },
           "yaxis": {
            "backgroundcolor": "#E5ECF6",
            "gridcolor": "white",
            "gridwidth": 2,
            "linecolor": "white",
            "showbackground": true,
            "ticks": "",
            "zerolinecolor": "white"
           },
           "zaxis": {
            "backgroundcolor": "#E5ECF6",
            "gridcolor": "white",
            "gridwidth": 2,
            "linecolor": "white",
            "showbackground": true,
            "ticks": "",
            "zerolinecolor": "white"
           }
          },
          "shapedefaults": {
           "line": {
            "color": "#2a3f5f"
           }
          },
          "ternary": {
           "aaxis": {
            "gridcolor": "white",
            "linecolor": "white",
            "ticks": ""
           },
           "baxis": {
            "gridcolor": "white",
            "linecolor": "white",
            "ticks": ""
           },
           "bgcolor": "#E5ECF6",
           "caxis": {
            "gridcolor": "white",
            "linecolor": "white",
            "ticks": ""
           }
          },
          "title": {
           "x": 0.05
          },
          "xaxis": {
           "automargin": true,
           "gridcolor": "white",
           "linecolor": "white",
           "ticks": "",
           "title": {
            "standoff": 15
           },
           "zerolinecolor": "white",
           "zerolinewidth": 2
          },
          "yaxis": {
           "automargin": true,
           "gridcolor": "white",
           "linecolor": "white",
           "ticks": "",
           "title": {
            "standoff": 15
           },
           "zerolinecolor": "white",
           "zerolinewidth": 2
          }
         }
        }
       }
      }
     },
     "metadata": {},
     "output_type": "display_data"
    }
   ],
   "source": [
    "#plotting the data using plotly\n",
    "fig=px.scatter_3d(df,x='feature1',y='feature2',z='target')\n",
    "fig.show()"
   ]
  },
  {
   "cell_type": "code",
   "execution_count": 40,
   "metadata": {},
   "outputs": [],
   "source": [
    "#splitting the data into training and testing set\n",
    "from sklearn.model_selection import train_test_split\n",
    "xTrain,xTest,yTrain,yTest= train_test_split(x,y,test_size=0.2,random_state=3)\n"
   ]
  },
  {
   "cell_type": "code",
   "execution_count": 41,
   "metadata": {},
   "outputs": [
    {
     "data": {
      "text/html": [
       "<style>#sk-container-id-2 {color: black;background-color: white;}#sk-container-id-2 pre{padding: 0;}#sk-container-id-2 div.sk-toggleable {background-color: white;}#sk-container-id-2 label.sk-toggleable__label {cursor: pointer;display: block;width: 100%;margin-bottom: 0;padding: 0.3em;box-sizing: border-box;text-align: center;}#sk-container-id-2 label.sk-toggleable__label-arrow:before {content: \"▸\";float: left;margin-right: 0.25em;color: #696969;}#sk-container-id-2 label.sk-toggleable__label-arrow:hover:before {color: black;}#sk-container-id-2 div.sk-estimator:hover label.sk-toggleable__label-arrow:before {color: black;}#sk-container-id-2 div.sk-toggleable__content {max-height: 0;max-width: 0;overflow: hidden;text-align: left;background-color: #f0f8ff;}#sk-container-id-2 div.sk-toggleable__content pre {margin: 0.2em;color: black;border-radius: 0.25em;background-color: #f0f8ff;}#sk-container-id-2 input.sk-toggleable__control:checked~div.sk-toggleable__content {max-height: 200px;max-width: 100%;overflow: auto;}#sk-container-id-2 input.sk-toggleable__control:checked~label.sk-toggleable__label-arrow:before {content: \"▾\";}#sk-container-id-2 div.sk-estimator input.sk-toggleable__control:checked~label.sk-toggleable__label {background-color: #d4ebff;}#sk-container-id-2 div.sk-label input.sk-toggleable__control:checked~label.sk-toggleable__label {background-color: #d4ebff;}#sk-container-id-2 input.sk-hidden--visually {border: 0;clip: rect(1px 1px 1px 1px);clip: rect(1px, 1px, 1px, 1px);height: 1px;margin: -1px;overflow: hidden;padding: 0;position: absolute;width: 1px;}#sk-container-id-2 div.sk-estimator {font-family: monospace;background-color: #f0f8ff;border: 1px dotted black;border-radius: 0.25em;box-sizing: border-box;margin-bottom: 0.5em;}#sk-container-id-2 div.sk-estimator:hover {background-color: #d4ebff;}#sk-container-id-2 div.sk-parallel-item::after {content: \"\";width: 100%;border-bottom: 1px solid gray;flex-grow: 1;}#sk-container-id-2 div.sk-label:hover label.sk-toggleable__label {background-color: #d4ebff;}#sk-container-id-2 div.sk-serial::before {content: \"\";position: absolute;border-left: 1px solid gray;box-sizing: border-box;top: 0;bottom: 0;left: 50%;z-index: 0;}#sk-container-id-2 div.sk-serial {display: flex;flex-direction: column;align-items: center;background-color: white;padding-right: 0.2em;padding-left: 0.2em;position: relative;}#sk-container-id-2 div.sk-item {position: relative;z-index: 1;}#sk-container-id-2 div.sk-parallel {display: flex;align-items: stretch;justify-content: center;background-color: white;position: relative;}#sk-container-id-2 div.sk-item::before, #sk-container-id-2 div.sk-parallel-item::before {content: \"\";position: absolute;border-left: 1px solid gray;box-sizing: border-box;top: 0;bottom: 0;left: 50%;z-index: -1;}#sk-container-id-2 div.sk-parallel-item {display: flex;flex-direction: column;z-index: 1;position: relative;background-color: white;}#sk-container-id-2 div.sk-parallel-item:first-child::after {align-self: flex-end;width: 50%;}#sk-container-id-2 div.sk-parallel-item:last-child::after {align-self: flex-start;width: 50%;}#sk-container-id-2 div.sk-parallel-item:only-child::after {width: 0;}#sk-container-id-2 div.sk-dashed-wrapped {border: 1px dashed gray;margin: 0 0.4em 0.5em 0.4em;box-sizing: border-box;padding-bottom: 0.4em;background-color: white;}#sk-container-id-2 div.sk-label label {font-family: monospace;font-weight: bold;display: inline-block;line-height: 1.2em;}#sk-container-id-2 div.sk-label-container {text-align: center;}#sk-container-id-2 div.sk-container {/* jupyter's `normalize.less` sets `[hidden] { display: none; }` but bootstrap.min.css set `[hidden] { display: none !important; }` so we also need the `!important` here to be able to override the default hidden behavior on the sphinx rendered scikit-learn.org. See: https://github.com/scikit-learn/scikit-learn/issues/21755 */display: inline-block !important;position: relative;}#sk-container-id-2 div.sk-text-repr-fallback {display: none;}</style><div id=\"sk-container-id-2\" class=\"sk-top-container\"><div class=\"sk-text-repr-fallback\"><pre>LinearRegression()</pre><b>In a Jupyter environment, please rerun this cell to show the HTML representation or trust the notebook. <br />On GitHub, the HTML representation is unable to render, please try loading this page with nbviewer.org.</b></div><div class=\"sk-container\" hidden><div class=\"sk-item\"><div class=\"sk-estimator sk-toggleable\"><input class=\"sk-toggleable__control sk-hidden--visually\" id=\"sk-estimator-id-2\" type=\"checkbox\" checked><label for=\"sk-estimator-id-2\" class=\"sk-toggleable__label sk-toggleable__label-arrow\">LinearRegression</label><div class=\"sk-toggleable__content\"><pre>LinearRegression()</pre></div></div></div></div></div>"
      ],
      "text/plain": [
       "LinearRegression()"
      ]
     },
     "execution_count": 41,
     "metadata": {},
     "output_type": "execute_result"
    }
   ],
   "source": [
    "#traing the model using linear regression\n",
    "from sklearn.linear_model import LinearRegression\n",
    "lr=LinearRegression()\n",
    "lr.fit(xTrain,yTrain)"
   ]
  },
  {
   "cell_type": "code",
   "execution_count": 42,
   "metadata": {},
   "outputs": [
    {
     "data": {
      "text/plain": [
       "array([-28.07067525, -17.61138652, -35.48950173, -31.48714028,\n",
       "        95.27392438, -64.83645277,  85.04681236, -18.71788495,\n",
       "        20.33598416, 106.11188331,  32.52198202, -28.90229803,\n",
       "       -77.21282837, -17.42515712,  14.89557685,  -6.78477509,\n",
       "       -58.62810623,   7.54574751,  93.8308877 , -12.22075523])"
      ]
     },
     "execution_count": 42,
     "metadata": {},
     "output_type": "execute_result"
    }
   ],
   "source": [
    "yPred =lr.predict(xTest)\n",
    "yPred"
   ]
  },
  {
   "cell_type": "code",
   "execution_count": 43,
   "metadata": {},
   "outputs": [
    {
     "name": "stdout",
     "output_type": "stream",
     "text": [
      "MAE 45.35506603029824\n",
      "MSE 2831.6006289612133\n",
      "R2 0.6489844339214098\n"
     ]
    }
   ],
   "source": [
    "print(\"MAE\",mean_absolute_error(yTest,yPred))\n",
    "print(\"MSE\",mean_squared_error(yTest,yPred))\n",
    "print(\"R2\",r2_score(yTest,yPred))"
   ]
  },
  {
   "cell_type": "code",
   "execution_count": 44,
   "metadata": {},
   "outputs": [
    {
     "data": {
      "application/vnd.plotly.v1+json": {
       "config": {
        "plotlyServerURL": "https://plot.ly"
       },
       "data": [
        {
         "hovertemplate": "feature1=%{x}<br>feature2=%{y}<br>target=%{z}<extra></extra>",
         "legendgroup": "",
         "marker": {
          "color": "#636efa",
          "symbol": "circle"
         },
         "mode": "markers",
         "name": "",
         "scene": "scene",
         "showlegend": false,
         "type": "scatter3d",
         "x": [
          1.469697906634573,
          0.14990158823652688,
          -2.4344498076802563,
          -0.10663174354257987,
          -1.7761706688010168,
          -0.9177948676086268,
          -0.48524397694237936,
          1.3232176288483397,
          0.34316938753925774,
          -0.5164592381668976,
          1.4494757475147766,
          0.3334462986620894,
          -0.06224655986952846,
          1.3618184356141045,
          0.06066687176804371,
          2.141439491013982,
          0.7739724054231405,
          1.0507769488132508,
          -0.24795634967711622,
          1.957117044273009,
          1.3771553410308608,
          0.3658962833752713,
          -0.9990189777559377,
          0.7048737175339425,
          0.9326595396825699,
          -0.40986553152862315,
          -1.5013569622988403,
          0.22856390220978623,
          1.0199846994557493,
          -1.768205066897764,
          1.3711117550060234,
          1.2547582142480527,
          -0.8126421636388389,
          1.7996731053516808,
          -0.0004433160823895964,
          0.8630899578048923,
          0.16841038068654646,
          0.9485866788404453,
          -0.7672557724754966,
          0.7450155360397174,
          1.0804973175418708,
          -1.5574141866865572,
          -0.07157608920861963,
          -0.13206091616219187,
          -0.39378644841469157,
          -0.003938147693268198,
          -0.10638736995597842,
          -0.31061334213471936,
          0.6226986551422221,
          -0.48091710425741657,
          1.6122513828728076,
          -0.9360429686299205,
          -0.37496210970588173,
          0.266802472764621,
          1.0257526213038213,
          -0.10250957956662606,
          1.2005406320816447,
          -0.685456194243791,
          0.5206517357639449,
          0.8571806315827183,
          0.16150794040631314,
          0.045178274635540874,
          0.9460931607524801,
          0.0010259660457222106,
          -1.4877769230889142,
          -0.5904497259394376,
          0.5577704532878258,
          -0.18488657721519017,
          -0.04898257441043687,
          0.3115608548247738,
          -0.6387087897286473,
          -1.022163799350242,
          1.0814487834269755,
          1.3081981351596959,
          -1.3757408624549852,
          0.648119831952131,
          0.0393526452607103,
          0.05615217992957957,
          -0.8262560532741231,
          0.6755028006345413,
          0.6745558213476122,
          0.20898201538048455,
          -1.7001338759652773,
          -1.3704208136921077,
          -0.5835701919330373,
          -0.29080656227754764,
          0.3222140395110738,
          -0.535689523293787,
          -0.06056139175196914,
          -1.5672237269909872,
          1.8712278794698873,
          1.1339641339666469,
          0.08478867951014704,
          -0.887596190427063,
          -0.7348719819639584,
          1.222348994091761,
          2.174917309255586,
          -0.6615513175551897,
          1.6807986917708864,
          0.9702091615016518
         ],
         "y": [
          1.5365196165324457,
          -0.12707402929324818,
          0.09145095587224589,
          -0.30323682683859726,
          0.684778927828983,
          -1.4381578461039275,
          -0.6733547836135716,
          0.09294069474091987,
          -1.4292698383009215,
          -0.33897211271327754,
          -0.5895025202572256,
          -0.16714669281783584,
          0.6692808554267008,
          -0.22706866453673383,
          -0.6796275203227781,
          0.1597518756625857,
          -1.1979173781293517,
          0.3802200638634238,
          -0.4484288596723259,
          0.24880204625778335,
          -0.31275335926398495,
          0.8450906369131933,
          -0.2298470459298701,
          -1.1752275527952127,
          -1.0027474549170345,
          1.505426381341865,
          1.3315576976465777,
          -0.8961910213394729,
          -0.45000003366080515,
          -0.04332089079086139,
          -0.6875092069978458,
          -0.09579964411681512,
          -0.11398069926980776,
          2.4416283398185525,
          0.4899507958494985,
          1.2428366093251515,
          -0.6633004791803712,
          -0.5505963263027208,
          -1.2851555542288302,
          0.3849347846213028,
          -0.18094581539792273,
          1.5100528945622747,
          -0.7723150516624225,
          0.2558876721782829,
          1.7802976979613356,
          -0.6321801110347874,
          -0.8767935677801905,
          1.2646990679229795,
          -1.244863868836703,
          -0.05622870271274382,
          -0.5549188826164774,
          -1.6511013049362298,
          0.01875766026833472,
          -1.4127638408091248,
          0.7828124871911127,
          -0.16487859784421344,
          -0.6857206606048611,
          0.6352811618615354,
          -0.7112319442826888,
          2.1233562005067608,
          0.15278686400815125,
          -1.1766923416255342,
          -0.7685996433981714,
          2.2543616992936895,
          1.4252253678033033,
          1.7367299363236823,
          0.832399160408161,
          -0.5078927633200512,
          0.0012383015062101851,
          0.8441168640751495,
          0.4282082157366332,
          -1.37562980576984,
          2.801826224114994,
          0.011543212264672614,
          -1.4331568610918555,
          -1.6624447749197415,
          0.7588691413367213,
          1.114682396339534,
          -1.5792742353543334,
          0.03730722030718527,
          -0.19602254165794647,
          0.9555362440530598,
          0.7045627007143929,
          -0.18927674177223683,
          -0.1033398596566359,
          -1.4249104190953363,
          -1.0453593565434098,
          -1.610806245941949,
          2.2854558278302166,
          0.8242008576081548,
          -0.3662830473202931,
          -0.20144560080054136,
          -0.4994257606619406,
          0.4108588768019553,
          1.1160497147623387,
          -2.313581396876026,
          -0.35595187047548427,
          0.4184305539992206,
          0.17049411703316414,
          1.1143503640522765
         ],
         "z": [
          131.4894644691009,
          -56.32560260418288,
          -119.95117005049072,
          -112.44218370473261,
          -19.53293576332218,
          -98.30576334227415,
          -81.03610370762921,
          -2.034775110523867,
          59.983788578987586,
          -78.12117186135283,
          -5.3850227546835825,
          -10.936483763697856,
          22.14939721575103,
          16.922350949633298,
          -105.93300485839008,
          189.10299510243817,
          -41.974166659596975,
          60.016179287518135,
          12.251979790029019,
          89.68828614759634,
          132.4408576001153,
          53.70515324358654,
          -19.314299238605386,
          -33.333423786113364,
          -20.753655820506363,
          33.15236673351321,
          -83.9456711601549,
          -56.6045264642089,
          70.28921061813517,
          -160.8104972585763,
          65.98538929881349,
          50.12175978085567,
          -66.92658473151826,
          57.049822004365396,
          32.72674850274886,
          141.130375804432,
          -40.23954964325476,
          24.51167006649498,
          -21.535166102509884,
          118.43138626078246,
          52.49983872252719,
          -60.06798767865526,
          -69.53409004309053,
          -59.53566220688441,
          104.63336863738544,
          -8.347858069157015,
          -59.969134816547296,
          61.0987195148423,
          -65.19892779051142,
          -18.52797451776109,
          68.67091368621423,
          -130.08306611427247,
          9.811620824557586,
          -41.893692743252195,
          84.9247677015006,
          46.705768149228966,
          82.97620240345819,
          51.32861934322573,
          -44.279687935383734,
          124.6397871932517,
          10.606200155306269,
          -14.148876144699036,
          8.857053268458177,
          78.04772445196608,
          0.701608795995277,
          -10.839871452642141,
          35.560918846156895,
          -80.85124397592516,
          15.471085009819044,
          97.7152970135626,
          6.643292720097769,
          -132.75537644903892,
          70.06093396145569,
          101.58346012697467,
          -111.51093266224682,
          -32.140776099631886,
          40.619121305378684,
          43.47863069165223,
          64.15149455765703,
          18.567546695826046,
          16.38079895742429,
          59.68650230334113,
          -76.36336708611991,
          -157.55974106564258,
          -60.62573267040685,
          10.454082007127539,
          58.35788713892113,
          -60.891917033552225,
          18.644639900803654,
          -33.550443564731026,
          138.1933206090498,
          48.42518809341799,
          -38.97956784160975,
          45.018775075629144,
          48.07703155251828,
          58.37666177158098,
          2.231928452088553,
          -41.04561982142986,
          169.87255570461397,
          131.82139096645392
         ]
        },
        {
         "type": "surface",
         "x": [
          -5,
          -3.888888888888889,
          -2.7777777777777777,
          -1.6666666666666665,
          -0.5555555555555554,
          0.5555555555555554,
          1.666666666666667,
          2.7777777777777786,
          3.8888888888888893,
          5
         ],
         "y": [
          -5,
          -3.888888888888889,
          -2.7777777777777777,
          -1.6666666666666665,
          -0.5555555555555554,
          0.5555555555555554,
          1.666666666666667,
          2.7777777777777786,
          3.8888888888888893,
          5
         ],
         "z": [
          [
           -348.40777614660533,
           -296.97433113304106,
           -245.54088611947677,
           -194.10744110591244,
           -142.67399609234815,
           -91.24055107878387,
           -39.807106065219536,
           11.626338948344772,
           63.05978396190907,
           114.49322897547333
          ],
          [
           -321.7179252031625,
           -270.2844801895982,
           -218.8510351760339,
           -167.4175901624696,
           -115.98414514890528,
           -64.550700135341,
           -13.117255121776674,
           38.31618989178764,
           89.74963490535194,
           141.1830799189162
          ],
          [
           -295.02807425971963,
           -243.59462924615534,
           -192.16118423259104,
           -140.72773921902672,
           -89.29429420546242,
           -37.86084919189814,
           13.57259582166619,
           65.0060408352305,
           116.4394858487948,
           167.87293086235906
          ],
          [
           -268.33822331627675,
           -216.90477830271246,
           -165.47133328914816,
           -114.03788827558385,
           -62.60444326201956,
           -11.170998248455275,
           40.26244676510906,
           91.69589177867337,
           143.12933679223767,
           194.56278180580193
          ],
          [
           -241.6483723728339,
           -190.2149273592696,
           -138.7814823457053,
           -87.34803733214099,
           -35.91459231857669,
           15.51885269498759,
           66.95229770855192,
           118.38574272211623,
           169.81918773568052,
           221.25263274924478
          ],
          [
           -214.95852142939103,
           -163.52507641582673,
           -112.09163140226245,
           -60.65818638869814,
           -9.224741375133839,
           42.20870363843044,
           93.64214865199477,
           145.0755936655591,
           196.5090386791234,
           247.94248369268766
          ],
          [
           -188.26867048594815,
           -136.83522547238385,
           -85.40178045881957,
           -33.96833544525526,
           17.46510956830904,
           68.89855458187333,
           120.33199959543765,
           171.76544460900197,
           223.19888962256627,
           274.6323346361305
          ],
          [
           -161.5788195425053,
           -110.14537452894099,
           -58.711929515376696,
           -7.27848450181239,
           44.154960511751916,
           95.58840552531619,
           147.02185053888053,
           198.45529555244482,
           249.88874056600912,
           301.3221855795734
          ],
          [
           -134.88896859906242,
           -83.45552358549814,
           -32.02207857193385,
           19.411366441630463,
           70.84481145519477,
           122.27825646875905,
           173.71170148232338,
           225.1451464958877,
           276.578591509452,
           328.01203652301626
          ],
          [
           -108.19911765561957,
           -56.765672642055286,
           -5.332227628490992,
           46.10121738507332,
           97.53466239863762,
           148.9681074122019,
           200.40155242576623,
           251.83499743933055,
           303.2684424528948,
           354.7018874664591
          ]
         ]
        }
       ],
       "layout": {
        "legend": {
         "tracegroupgap": 0
        },
        "margin": {
         "t": 60
        },
        "scene": {
         "domain": {
          "x": [
           0,
           1
          ],
          "y": [
           0,
           1
          ]
         },
         "xaxis": {
          "title": {
           "text": "feature1"
          }
         },
         "yaxis": {
          "title": {
           "text": "feature2"
          }
         },
         "zaxis": {
          "title": {
           "text": "target"
          }
         }
        },
        "template": {
         "data": {
          "bar": [
           {
            "error_x": {
             "color": "#2a3f5f"
            },
            "error_y": {
             "color": "#2a3f5f"
            },
            "marker": {
             "line": {
              "color": "#E5ECF6",
              "width": 0.5
             },
             "pattern": {
              "fillmode": "overlay",
              "size": 10,
              "solidity": 0.2
             }
            },
            "type": "bar"
           }
          ],
          "barpolar": [
           {
            "marker": {
             "line": {
              "color": "#E5ECF6",
              "width": 0.5
             },
             "pattern": {
              "fillmode": "overlay",
              "size": 10,
              "solidity": 0.2
             }
            },
            "type": "barpolar"
           }
          ],
          "carpet": [
           {
            "aaxis": {
             "endlinecolor": "#2a3f5f",
             "gridcolor": "white",
             "linecolor": "white",
             "minorgridcolor": "white",
             "startlinecolor": "#2a3f5f"
            },
            "baxis": {
             "endlinecolor": "#2a3f5f",
             "gridcolor": "white",
             "linecolor": "white",
             "minorgridcolor": "white",
             "startlinecolor": "#2a3f5f"
            },
            "type": "carpet"
           }
          ],
          "choropleth": [
           {
            "colorbar": {
             "outlinewidth": 0,
             "ticks": ""
            },
            "type": "choropleth"
           }
          ],
          "contour": [
           {
            "colorbar": {
             "outlinewidth": 0,
             "ticks": ""
            },
            "colorscale": [
             [
              0,
              "#0d0887"
             ],
             [
              0.1111111111111111,
              "#46039f"
             ],
             [
              0.2222222222222222,
              "#7201a8"
             ],
             [
              0.3333333333333333,
              "#9c179e"
             ],
             [
              0.4444444444444444,
              "#bd3786"
             ],
             [
              0.5555555555555556,
              "#d8576b"
             ],
             [
              0.6666666666666666,
              "#ed7953"
             ],
             [
              0.7777777777777778,
              "#fb9f3a"
             ],
             [
              0.8888888888888888,
              "#fdca26"
             ],
             [
              1,
              "#f0f921"
             ]
            ],
            "type": "contour"
           }
          ],
          "contourcarpet": [
           {
            "colorbar": {
             "outlinewidth": 0,
             "ticks": ""
            },
            "type": "contourcarpet"
           }
          ],
          "heatmap": [
           {
            "colorbar": {
             "outlinewidth": 0,
             "ticks": ""
            },
            "colorscale": [
             [
              0,
              "#0d0887"
             ],
             [
              0.1111111111111111,
              "#46039f"
             ],
             [
              0.2222222222222222,
              "#7201a8"
             ],
             [
              0.3333333333333333,
              "#9c179e"
             ],
             [
              0.4444444444444444,
              "#bd3786"
             ],
             [
              0.5555555555555556,
              "#d8576b"
             ],
             [
              0.6666666666666666,
              "#ed7953"
             ],
             [
              0.7777777777777778,
              "#fb9f3a"
             ],
             [
              0.8888888888888888,
              "#fdca26"
             ],
             [
              1,
              "#f0f921"
             ]
            ],
            "type": "heatmap"
           }
          ],
          "heatmapgl": [
           {
            "colorbar": {
             "outlinewidth": 0,
             "ticks": ""
            },
            "colorscale": [
             [
              0,
              "#0d0887"
             ],
             [
              0.1111111111111111,
              "#46039f"
             ],
             [
              0.2222222222222222,
              "#7201a8"
             ],
             [
              0.3333333333333333,
              "#9c179e"
             ],
             [
              0.4444444444444444,
              "#bd3786"
             ],
             [
              0.5555555555555556,
              "#d8576b"
             ],
             [
              0.6666666666666666,
              "#ed7953"
             ],
             [
              0.7777777777777778,
              "#fb9f3a"
             ],
             [
              0.8888888888888888,
              "#fdca26"
             ],
             [
              1,
              "#f0f921"
             ]
            ],
            "type": "heatmapgl"
           }
          ],
          "histogram": [
           {
            "marker": {
             "pattern": {
              "fillmode": "overlay",
              "size": 10,
              "solidity": 0.2
             }
            },
            "type": "histogram"
           }
          ],
          "histogram2d": [
           {
            "colorbar": {
             "outlinewidth": 0,
             "ticks": ""
            },
            "colorscale": [
             [
              0,
              "#0d0887"
             ],
             [
              0.1111111111111111,
              "#46039f"
             ],
             [
              0.2222222222222222,
              "#7201a8"
             ],
             [
              0.3333333333333333,
              "#9c179e"
             ],
             [
              0.4444444444444444,
              "#bd3786"
             ],
             [
              0.5555555555555556,
              "#d8576b"
             ],
             [
              0.6666666666666666,
              "#ed7953"
             ],
             [
              0.7777777777777778,
              "#fb9f3a"
             ],
             [
              0.8888888888888888,
              "#fdca26"
             ],
             [
              1,
              "#f0f921"
             ]
            ],
            "type": "histogram2d"
           }
          ],
          "histogram2dcontour": [
           {
            "colorbar": {
             "outlinewidth": 0,
             "ticks": ""
            },
            "colorscale": [
             [
              0,
              "#0d0887"
             ],
             [
              0.1111111111111111,
              "#46039f"
             ],
             [
              0.2222222222222222,
              "#7201a8"
             ],
             [
              0.3333333333333333,
              "#9c179e"
             ],
             [
              0.4444444444444444,
              "#bd3786"
             ],
             [
              0.5555555555555556,
              "#d8576b"
             ],
             [
              0.6666666666666666,
              "#ed7953"
             ],
             [
              0.7777777777777778,
              "#fb9f3a"
             ],
             [
              0.8888888888888888,
              "#fdca26"
             ],
             [
              1,
              "#f0f921"
             ]
            ],
            "type": "histogram2dcontour"
           }
          ],
          "mesh3d": [
           {
            "colorbar": {
             "outlinewidth": 0,
             "ticks": ""
            },
            "type": "mesh3d"
           }
          ],
          "parcoords": [
           {
            "line": {
             "colorbar": {
              "outlinewidth": 0,
              "ticks": ""
             }
            },
            "type": "parcoords"
           }
          ],
          "pie": [
           {
            "automargin": true,
            "type": "pie"
           }
          ],
          "scatter": [
           {
            "fillpattern": {
             "fillmode": "overlay",
             "size": 10,
             "solidity": 0.2
            },
            "type": "scatter"
           }
          ],
          "scatter3d": [
           {
            "line": {
             "colorbar": {
              "outlinewidth": 0,
              "ticks": ""
             }
            },
            "marker": {
             "colorbar": {
              "outlinewidth": 0,
              "ticks": ""
             }
            },
            "type": "scatter3d"
           }
          ],
          "scattercarpet": [
           {
            "marker": {
             "colorbar": {
              "outlinewidth": 0,
              "ticks": ""
             }
            },
            "type": "scattercarpet"
           }
          ],
          "scattergeo": [
           {
            "marker": {
             "colorbar": {
              "outlinewidth": 0,
              "ticks": ""
             }
            },
            "type": "scattergeo"
           }
          ],
          "scattergl": [
           {
            "marker": {
             "colorbar": {
              "outlinewidth": 0,
              "ticks": ""
             }
            },
            "type": "scattergl"
           }
          ],
          "scattermapbox": [
           {
            "marker": {
             "colorbar": {
              "outlinewidth": 0,
              "ticks": ""
             }
            },
            "type": "scattermapbox"
           }
          ],
          "scatterpolar": [
           {
            "marker": {
             "colorbar": {
              "outlinewidth": 0,
              "ticks": ""
             }
            },
            "type": "scatterpolar"
           }
          ],
          "scatterpolargl": [
           {
            "marker": {
             "colorbar": {
              "outlinewidth": 0,
              "ticks": ""
             }
            },
            "type": "scatterpolargl"
           }
          ],
          "scatterternary": [
           {
            "marker": {
             "colorbar": {
              "outlinewidth": 0,
              "ticks": ""
             }
            },
            "type": "scatterternary"
           }
          ],
          "surface": [
           {
            "colorbar": {
             "outlinewidth": 0,
             "ticks": ""
            },
            "colorscale": [
             [
              0,
              "#0d0887"
             ],
             [
              0.1111111111111111,
              "#46039f"
             ],
             [
              0.2222222222222222,
              "#7201a8"
             ],
             [
              0.3333333333333333,
              "#9c179e"
             ],
             [
              0.4444444444444444,
              "#bd3786"
             ],
             [
              0.5555555555555556,
              "#d8576b"
             ],
             [
              0.6666666666666666,
              "#ed7953"
             ],
             [
              0.7777777777777778,
              "#fb9f3a"
             ],
             [
              0.8888888888888888,
              "#fdca26"
             ],
             [
              1,
              "#f0f921"
             ]
            ],
            "type": "surface"
           }
          ],
          "table": [
           {
            "cells": {
             "fill": {
              "color": "#EBF0F8"
             },
             "line": {
              "color": "white"
             }
            },
            "header": {
             "fill": {
              "color": "#C8D4E3"
             },
             "line": {
              "color": "white"
             }
            },
            "type": "table"
           }
          ]
         },
         "layout": {
          "annotationdefaults": {
           "arrowcolor": "#2a3f5f",
           "arrowhead": 0,
           "arrowwidth": 1
          },
          "autotypenumbers": "strict",
          "coloraxis": {
           "colorbar": {
            "outlinewidth": 0,
            "ticks": ""
           }
          },
          "colorscale": {
           "diverging": [
            [
             0,
             "#8e0152"
            ],
            [
             0.1,
             "#c51b7d"
            ],
            [
             0.2,
             "#de77ae"
            ],
            [
             0.3,
             "#f1b6da"
            ],
            [
             0.4,
             "#fde0ef"
            ],
            [
             0.5,
             "#f7f7f7"
            ],
            [
             0.6,
             "#e6f5d0"
            ],
            [
             0.7,
             "#b8e186"
            ],
            [
             0.8,
             "#7fbc41"
            ],
            [
             0.9,
             "#4d9221"
            ],
            [
             1,
             "#276419"
            ]
           ],
           "sequential": [
            [
             0,
             "#0d0887"
            ],
            [
             0.1111111111111111,
             "#46039f"
            ],
            [
             0.2222222222222222,
             "#7201a8"
            ],
            [
             0.3333333333333333,
             "#9c179e"
            ],
            [
             0.4444444444444444,
             "#bd3786"
            ],
            [
             0.5555555555555556,
             "#d8576b"
            ],
            [
             0.6666666666666666,
             "#ed7953"
            ],
            [
             0.7777777777777778,
             "#fb9f3a"
            ],
            [
             0.8888888888888888,
             "#fdca26"
            ],
            [
             1,
             "#f0f921"
            ]
           ],
           "sequentialminus": [
            [
             0,
             "#0d0887"
            ],
            [
             0.1111111111111111,
             "#46039f"
            ],
            [
             0.2222222222222222,
             "#7201a8"
            ],
            [
             0.3333333333333333,
             "#9c179e"
            ],
            [
             0.4444444444444444,
             "#bd3786"
            ],
            [
             0.5555555555555556,
             "#d8576b"
            ],
            [
             0.6666666666666666,
             "#ed7953"
            ],
            [
             0.7777777777777778,
             "#fb9f3a"
            ],
            [
             0.8888888888888888,
             "#fdca26"
            ],
            [
             1,
             "#f0f921"
            ]
           ]
          },
          "colorway": [
           "#636efa",
           "#EF553B",
           "#00cc96",
           "#ab63fa",
           "#FFA15A",
           "#19d3f3",
           "#FF6692",
           "#B6E880",
           "#FF97FF",
           "#FECB52"
          ],
          "font": {
           "color": "#2a3f5f"
          },
          "geo": {
           "bgcolor": "white",
           "lakecolor": "white",
           "landcolor": "#E5ECF6",
           "showlakes": true,
           "showland": true,
           "subunitcolor": "white"
          },
          "hoverlabel": {
           "align": "left"
          },
          "hovermode": "closest",
          "mapbox": {
           "style": "light"
          },
          "paper_bgcolor": "white",
          "plot_bgcolor": "#E5ECF6",
          "polar": {
           "angularaxis": {
            "gridcolor": "white",
            "linecolor": "white",
            "ticks": ""
           },
           "bgcolor": "#E5ECF6",
           "radialaxis": {
            "gridcolor": "white",
            "linecolor": "white",
            "ticks": ""
           }
          },
          "scene": {
           "xaxis": {
            "backgroundcolor": "#E5ECF6",
            "gridcolor": "white",
            "gridwidth": 2,
            "linecolor": "white",
            "showbackground": true,
            "ticks": "",
            "zerolinecolor": "white"
           },
           "yaxis": {
            "backgroundcolor": "#E5ECF6",
            "gridcolor": "white",
            "gridwidth": 2,
            "linecolor": "white",
            "showbackground": true,
            "ticks": "",
            "zerolinecolor": "white"
           },
           "zaxis": {
            "backgroundcolor": "#E5ECF6",
            "gridcolor": "white",
            "gridwidth": 2,
            "linecolor": "white",
            "showbackground": true,
            "ticks": "",
            "zerolinecolor": "white"
           }
          },
          "shapedefaults": {
           "line": {
            "color": "#2a3f5f"
           }
          },
          "ternary": {
           "aaxis": {
            "gridcolor": "white",
            "linecolor": "white",
            "ticks": ""
           },
           "baxis": {
            "gridcolor": "white",
            "linecolor": "white",
            "ticks": ""
           },
           "bgcolor": "#E5ECF6",
           "caxis": {
            "gridcolor": "white",
            "linecolor": "white",
            "ticks": ""
           }
          },
          "title": {
           "x": 0.05
          },
          "xaxis": {
           "automargin": true,
           "gridcolor": "white",
           "linecolor": "white",
           "ticks": "",
           "title": {
            "standoff": 15
           },
           "zerolinecolor": "white",
           "zerolinewidth": 2
          },
          "yaxis": {
           "automargin": true,
           "gridcolor": "white",
           "linecolor": "white",
           "ticks": "",
           "title": {
            "standoff": 15
           },
           "zerolinecolor": "white",
           "zerolinewidth": 2
          }
         }
        }
       }
      }
     },
     "metadata": {},
     "output_type": "display_data"
    }
   ],
   "source": [
    "x=np.linspace(-5,5,10)\n",
    "y=np.linspace(-5,5,10)\n",
    "xGrid,yGrid =np.meshgrid(y,x)\n",
    "\n",
    "final=np.vstack((xGrid.ravel().reshape(1,100),yGrid.ravel().reshape(1,100))).T\n",
    "zFinal = lr.predict(final).reshape(10,10)\n",
    "z=zFinal\n",
    "fig=px.scatter_3d(df,x='feature1',y='feature2',z='target')\n",
    "fig.add_trace(go.Surface(x=x,y=y,z=z))\n",
    "fig.show()\n"
   ]
  },
  {
   "cell_type": "code",
   "execution_count": 45,
   "metadata": {},
   "outputs": [
    {
     "data": {
      "text/plain": [
       "array([46.29010051, 24.02086585])"
      ]
     },
     "execution_count": 45,
     "metadata": {},
     "output_type": "execute_result"
    }
   ],
   "source": [
    "lr.coef_ #here beta1 and beta2 value are shown"
   ]
  },
  {
   "cell_type": "code",
   "execution_count": 46,
   "metadata": {},
   "outputs": [
    {
     "data": {
      "text/plain": [
       "3.1470556599268757"
      ]
     },
     "execution_count": 46,
     "metadata": {},
     "output_type": "execute_result"
    }
   ],
   "source": [
    "lr.intercept_  #here betaNot value is shown"
   ]
  }
 ],
 "metadata": {
  "kernelspec": {
   "display_name": "base",
   "language": "python",
   "name": "python3"
  },
  "language_info": {
   "codemirror_mode": {
    "name": "ipython",
    "version": 3
   },
   "file_extension": ".py",
   "mimetype": "text/x-python",
   "name": "python",
   "nbconvert_exporter": "python",
   "pygments_lexer": "ipython3",
   "version": "3.10.9"
  },
  "orig_nbformat": 4
 },
 "nbformat": 4,
 "nbformat_minor": 2
}
