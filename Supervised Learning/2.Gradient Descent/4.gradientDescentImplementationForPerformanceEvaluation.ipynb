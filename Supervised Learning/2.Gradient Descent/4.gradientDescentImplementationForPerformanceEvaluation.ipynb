{
 "cells": [
  {
   "cell_type": "markdown",
   "metadata": {},
   "source": [
    "For this implementation, we are going to use the advertising dataset. This is a dataset that gives us the total sales for different products, after marketing them on Television, Radio and Newspaper. Using our algorithm, we can find out which medium performs the best for our sales and assign weights to all the mediums accordingly. This dataset can be downloaded from the link given below:\n",
    "https://www.kaggle.com/sazid28/advertising.csv"
   ]
  },
  {
   "cell_type": "code",
   "execution_count": 35,
   "metadata": {},
   "outputs": [],
   "source": [
    "import numpy as np #used for mathematical operation\n",
    "import pandas as pd  #used for mathematical operation as well as reading dataset\n",
    "import matplotlib.pyplot as plt # used for plotting our findings and graphical result explanation\n",
    "import seaborn as sns    # used for plotting our findings and graphical result explanation\n",
    "\n"
   ]
  },
  {
   "cell_type": "code",
   "execution_count": 36,
   "metadata": {},
   "outputs": [
    {
     "data": {
      "text/plain": [
       "<bound method NDFrame.head of      Unnamed: 0     TV  radio  newspaper  sales\n",
       "0             1  230.1   37.8       69.2   22.1\n",
       "1             2   44.5   39.3       45.1   10.4\n",
       "2             3   17.2   45.9       69.3    9.3\n",
       "3             4  151.5   41.3       58.5   18.5\n",
       "4             5  180.8   10.8       58.4   12.9\n",
       "..          ...    ...    ...        ...    ...\n",
       "195         196   38.2    3.7       13.8    7.6\n",
       "196         197   94.2    4.9        8.1    9.7\n",
       "197         198  177.0    9.3        6.4   12.8\n",
       "198         199  283.6   42.0       66.2   25.5\n",
       "199         200  232.1    8.6        8.7   13.4\n",
       "\n",
       "[200 rows x 5 columns]>"
      ]
     },
     "execution_count": 36,
     "metadata": {},
     "output_type": "execute_result"
    }
   ],
   "source": [
    "# reading data:\n",
    "dataFrame = pd.read_csv(\"Advertising.csv\");\n",
    "dataFrame.head\n",
    "# dataFrame.size"
   ]
  },
  {
   "cell_type": "markdown",
   "metadata": {},
   "source": [
    "X would represent TV, Radio and Newspaper while Y would represent our sales. As all these sales might be on different scales, we then normalise our X & Y variables."
   ]
  },
  {
   "cell_type": "code",
   "execution_count": 37,
   "metadata": {},
   "outputs": [],
   "source": [
    "x = dataFrame[['TV','radio','newspaper']]\n",
    "y = dataFrame['sales']\n",
    "y=np.array((y-y.mean())/y.std())\n",
    "x=x.apply(lambda rec:(rec-rec.mean())/rec.std(),axis=0)"
   ]
  },
  {
   "cell_type": "markdown",
   "metadata": {},
   "source": [
    "y = np.array((y - y.mean()) / y.std()):\n",
    "\n",
    "y is a NumPy array or a similar array-like structure containing numerical data.\n",
    "y.mean() calculates the mean (average) of the elements in the array y.\n",
    "y.std() calculates the standard deviation of the elements in the array y.\n",
    "(y - y.mean()) / y.std() subtracts the mean from each element in y and then divides by the standard deviation, effectively standardizing the data.\n",
    "np.array(...) converts the result back into a NumPy array and assigns it to the variable y.\n",
    "x = x.apply(lambda rec: (rec - rec.mean()) / rec.std(), axis=0):\n",
    "\n",
    "x is likely a DataFrame, possibly from the Pandas library, containing tabular data with multiple columns.\n",
    "x.apply(...) applies a function to each column (axis 0) of the DataFrame x.\n",
    "lambda rec: (rec - rec.mean()) / rec.std() is a lambda function that takes each column rec, subtracts its mean, and then divides by its standard deviation.\n",
    "This function effectively standardizes each column of the DataFrame.\n",
    "The result of applying this function to each column is assigned back to the DataFrame x.\n",
    "\n"
   ]
  },
  {
   "cell_type": "markdown",
   "metadata": {},
   "source": [
    "Once we have a normalised dataset, we can start defining our algorithm. To implement a gradient descent algorithm we need to follow 4 steps:\n",
    "Randomly initialize the bias and the weight theta\n",
    "Calculate predicted value of y that is Y given the bias and the weight\n",
    "Calculate the cost function from predicted and actual values of Y\n",
    "Calculate gradient and the weights"
   ]
  },
  {
   "cell_type": "code",
   "execution_count": 38,
   "metadata": {},
   "outputs": [
    {
     "name": "stdout",
     "output_type": "stream",
     "text": [
      "Bias: 0.2477786578792256 Weights: [0.43465631 0.68046988 0.783847  ]\n"
     ]
    }
   ],
   "source": [
    "import random\n",
    "def initialize(dim):\n",
    "    b=random.random()\n",
    "    theta=np.random.rand(dim)\n",
    "    return b,theta\n",
    "b,theta=initialize(3)\n",
    "print(f\"Bias: {b}\", f\"Weights: {theta}\")\n",
    "# here we created a function initialize to generate random weights and biases"
   ]
  },
  {
   "cell_type": "code",
   "execution_count": 39,
   "metadata": {},
   "outputs": [
    {
     "data": {
      "text/plain": [
       "array([2.72543116, 0.98714157, 2.02242152, 2.1028057 , 0.84964592])"
      ]
     },
     "execution_count": 39,
     "metadata": {},
     "output_type": "execute_result"
    }
   ],
   "source": [
    "def predictY(b,theta,x):\n",
    "    return b + np.dot(x,theta)\n",
    "yHat=predictY(b,theta,x)\n",
    "yHat\n",
    "yHat[0:5]\n",
    "#here we predicted y values using y = h(thetaX)=b+theta1*x1+theta2*x2+theta3*x3"
   ]
  },
  {
   "cell_type": "markdown",
   "metadata": {},
   "source": [
    "yHat is the predicted output value whereas Y will be the actual value. The difference between these will give us our cost function. Which will be calculate in our next function."
   ]
  },
  {
   "cell_type": "code",
   "execution_count": 40,
   "metadata": {},
   "outputs": [
    {
     "data": {
      "text/plain": [
       "0.9499743762256162"
      ]
     },
     "execution_count": 40,
     "metadata": {},
     "output_type": "execute_result"
    }
   ],
   "source": [
    "import math\n",
    "def get_cost(y,yHat):\n",
    "    difference=y-yHat\n",
    "    return np.sum(np.dot(difference.T,difference))/len(y-difference)\n",
    "yHat=predictY(b,theta,x)\n",
    "get_cost(y,yHat)\n",
    "# we will try to lessen the cost function "
   ]
  },
  {
   "cell_type": "markdown",
   "metadata": {},
   "source": [
    "now we will try to update theta values:\n",
    "The parameters passed to the function are\n",
    "x,y : the input and output variable\n",
    "y_hat: predicted value with current bias and weights\n",
    "b_0,theta_0: current bias and weights\n",
    "Learning rate: learning rate to adjust the update step"
   ]
  },
  {
   "cell_type": "code",
   "execution_count": 41,
   "metadata": {},
   "outputs": [
    {
     "name": "stdout",
     "output_type": "stream",
     "text": [
      "After initialization -Bias:  0.2477786578792256 theta:  [0.43465631 0.68046988 0.783847  ]\n",
      "After first update -Bias:  0.24282308472164107 theta:  [0.43994711 0.67239778 0.76750657]\n"
     ]
    },
    {
     "data": {
      "text/plain": [
       "0.9499743762256162"
      ]
     },
     "execution_count": 41,
     "metadata": {},
     "output_type": "execute_result"
    }
   ],
   "source": [
    "def update_theta(x,y,yHat,b_0,theta_o,learning_rate):\n",
    "    db=(np.sum(yHat-y)*2)/len(y)\n",
    "    dw=(np.dot((yHat-y),x)*2)/len(y)\n",
    "    b_1=b_0-learning_rate*db\n",
    "    theta_1=theta_o-learning_rate*dw\n",
    "    return b_1,theta_1\n",
    "print(\"After initialization -Bias: \",b,\"theta: \",theta)\n",
    "yHat=predictY(b,theta,x)\n",
    "b,theta=update_theta(x,y,yHat,b,theta,0.01)\n",
    "print(\"After first update -Bias: \",b,\"theta: \",theta)\n",
    "get_cost(y,yHat)"
   ]
  },
  {
   "cell_type": "code",
   "execution_count": 42,
   "metadata": {},
   "outputs": [
    {
     "name": "stdout",
     "output_type": "stream",
     "text": [
      "Final Estimate of b and theta: 0.427527540946895 [0.60794216 0.674926   0.48538107]\n"
     ]
    }
   ],
   "source": [
    "def run_gradient_descent(x, y, alpha, num_iterations):\n",
    "    b, theta = initialize(x.shape[1])\n",
    "    iter_num = 0\n",
    "    gd_iterations_df = pd.DataFrame(columns=['iteration', 'cost'])\n",
    "    result_idx = 0\n",
    "    \n",
    "    for each_iter in range(num_iterations):\n",
    "        yHat = predictY(b, theta, x)\n",
    "        this_cost = get_cost(y, yHat)\n",
    "        prev_b = b\n",
    "        prev_theta = theta\n",
    "        b, theta = update_theta(x, y, yHat, prev_b, prev_theta, alpha)\n",
    "        \n",
    "        if iter_num % 10 == 0:\n",
    "            gd_iterations_df.loc[result_idx] = [iter_num, this_cost]\n",
    "            result_idx = result_idx + 1\n",
    "        iter_num += 1\n",
    "    \n",
    "    print(\"Final Estimate of b and theta:\", b, theta)\n",
    "    return gd_iterations_df, b, theta\n",
    "\n",
    "gd_iterations_df, b, theta = run_gradient_descent(x, y, alpha=0.001, num_iterations=200)\n",
    "# In this corrected version, I've addressed the following issues:\n",
    "\n",
    "# Imported the necessary libraries (random, numpy, and pandas).\n",
    "# Defined the missing functions (predict_y, update_theta, etc.).\n",
    "# Fixed the indentation of the run_gradient_descent function and the lines inside the loop.\n",
    "# Used correct quotation marks for column names in the DataFrame (' instead of ‘ and ’).\n",
    "# This code should now execute correctly and run the gradient descent optimization process while tracking the cost values during iterations.\n",
    "\n",
    "\n",
    "\n",
    "\n",
    "\n"
   ]
  },
  {
   "cell_type": "code",
   "execution_count": 43,
   "metadata": {},
   "outputs": [
    {
     "name": "stdout",
     "output_type": "stream",
     "text": [
      "Final Estimate of b and theta: 0.6898967112346817 [0.78256776 0.31301161 0.27482899]\n"
     ]
    }
   ],
   "source": [
    "import random\n",
    "import numpy as np\n",
    "import pandas as pd\n",
    "\n",
    "def initialize(dim):\n",
    "    b = random.random()\n",
    "    theta = np.random.rand(dim)\n",
    "    return b, theta\n",
    "\n",
    "def predict_y(b, theta, x):\n",
    "    return b + np.dot(x, theta)\n",
    "\n",
    "def get_cost(y, yHat):\n",
    "    difference = y - yHat\n",
    "    return np.sum(np.dot(difference.T, difference)) / len(y - difference)\n",
    "\n",
    "def update_theta(x, y, yHat, prev_b, prev_theta, alpha):\n",
    "    difference = yHat - y\n",
    "    b_gradient = np.sum(difference) / len(y)\n",
    "    theta_gradient = np.dot(x.T, difference) / len(y)\n",
    "    updated_b = prev_b - alpha * b_gradient\n",
    "    updated_theta = prev_theta - alpha * theta_gradient\n",
    "    return updated_b, updated_theta\n",
    "\n",
    "def run_gradient_descent(x, y, alpha, num_iterations):\n",
    "    b, theta = initialize(x.shape[1])\n",
    "    iter_num = 0\n",
    "    gd_iterations_df = pd.DataFrame(columns=['iteration', 'cost'])\n",
    "    result_idx = 0\n",
    "    \n",
    "    for each_iter in range(num_iterations):\n",
    "        yHat = predict_y(b, theta, x)\n",
    "        this_cost = get_cost(y, yHat)\n",
    "        prev_b = b\n",
    "        prev_theta = theta\n",
    "        b, theta = update_theta(x, y, yHat, prev_b, prev_theta, alpha)\n",
    "        \n",
    "        if iter_num % 10 == 0:\n",
    "            gd_iterations_df.loc[result_idx] = [iter_num, this_cost]\n",
    "            result_idx = result_idx + 1\n",
    "        iter_num += 1\n",
    "    \n",
    "    print(\"Final Estimate of b and theta:\", b, theta)\n",
    "    return gd_iterations_df, b, theta\n",
    "\n",
    "gd_iterations_df, b, theta = run_gradient_descent(x, y, alpha=0.001, num_iterations=200)\n"
   ]
  },
  {
   "cell_type": "markdown",
   "metadata": {},
   "source": [
    "we can see a decrase in cost function"
   ]
  },
  {
   "cell_type": "code",
   "execution_count": 44,
   "metadata": {},
   "outputs": [
    {
     "data": {
      "text/html": [
       "<div>\n",
       "<style scoped>\n",
       "    .dataframe tbody tr th:only-of-type {\n",
       "        vertical-align: middle;\n",
       "    }\n",
       "\n",
       "    .dataframe tbody tr th {\n",
       "        vertical-align: top;\n",
       "    }\n",
       "\n",
       "    .dataframe thead th {\n",
       "        text-align: right;\n",
       "    }\n",
       "</style>\n",
       "<table border=\"1\" class=\"dataframe\">\n",
       "  <thead>\n",
       "    <tr style=\"text-align: right;\">\n",
       "      <th></th>\n",
       "      <th>iteration</th>\n",
       "      <th>cost</th>\n",
       "    </tr>\n",
       "  </thead>\n",
       "  <tbody>\n",
       "    <tr>\n",
       "      <th>0</th>\n",
       "      <td>0.0</td>\n",
       "      <td>0.922814</td>\n",
       "    </tr>\n",
       "    <tr>\n",
       "      <th>1</th>\n",
       "      <td>10.0</td>\n",
       "      <td>0.907263</td>\n",
       "    </tr>\n",
       "    <tr>\n",
       "      <th>2</th>\n",
       "      <td>20.0</td>\n",
       "      <td>0.892012</td>\n",
       "    </tr>\n",
       "    <tr>\n",
       "      <th>3</th>\n",
       "      <td>30.0</td>\n",
       "      <td>0.877054</td>\n",
       "    </tr>\n",
       "    <tr>\n",
       "      <th>4</th>\n",
       "      <td>40.0</td>\n",
       "      <td>0.862384</td>\n",
       "    </tr>\n",
       "    <tr>\n",
       "      <th>5</th>\n",
       "      <td>50.0</td>\n",
       "      <td>0.847997</td>\n",
       "    </tr>\n",
       "    <tr>\n",
       "      <th>6</th>\n",
       "      <td>60.0</td>\n",
       "      <td>0.833887</td>\n",
       "    </tr>\n",
       "    <tr>\n",
       "      <th>7</th>\n",
       "      <td>70.0</td>\n",
       "      <td>0.820048</td>\n",
       "    </tr>\n",
       "    <tr>\n",
       "      <th>8</th>\n",
       "      <td>80.0</td>\n",
       "      <td>0.806475</td>\n",
       "    </tr>\n",
       "    <tr>\n",
       "      <th>9</th>\n",
       "      <td>90.0</td>\n",
       "      <td>0.793164</td>\n",
       "    </tr>\n",
       "  </tbody>\n",
       "</table>\n",
       "</div>"
      ],
      "text/plain": [
       "   iteration      cost\n",
       "0        0.0  0.922814\n",
       "1       10.0  0.907263\n",
       "2       20.0  0.892012\n",
       "3       30.0  0.877054\n",
       "4       40.0  0.862384\n",
       "5       50.0  0.847997\n",
       "6       60.0  0.833887\n",
       "7       70.0  0.820048\n",
       "8       80.0  0.806475\n",
       "9       90.0  0.793164"
      ]
     },
     "execution_count": 44,
     "metadata": {},
     "output_type": "execute_result"
    }
   ],
   "source": [
    "gd_iterations_df[0:10]"
   ]
  },
  {
   "cell_type": "code",
   "execution_count": 45,
   "metadata": {},
   "outputs": [
    {
     "data": {
      "image/png": "[encoded data removed]",
      "text/plain": [
       "<Figure size 640x480 with 1 Axes>"
      ]
     },
     "metadata": {},
     "output_type": "display_data"
    }
   ],
   "source": [
    "%matplotlib inline\n",
    "import matplotlib.pyplot as plt\n",
    "\n",
    "plt.plot(gd_iterations_df['iteration'], gd_iterations_df['cost'])\n",
    "plt.xlabel(\"Number of iterations\")\n",
    "plt.ylabel(\"Cost or MSE\")\n",
    "plt.title(\"Gradient Descent Convergence\")\n",
    "plt.show()\n"
   ]
  },
  {
   "cell_type": "markdown",
   "metadata": {},
   "source": [
    "As we can see the cost function decreases with increase in iterations, but we still have not reached convergence. Now, let’s try with α=0.01 for 2000 iterations and compare it with α=0.001 and find which learning rate is better for this dataset."
   ]
  },
  {
   "cell_type": "code",
   "execution_count": 46,
   "metadata": {},
   "outputs": [
    {
     "name": "stdout",
     "output_type": "stream",
     "text": [
      "Final Estimate of b and theta: 1.3468002203938073e-09 [ 0.75306591  0.53648113 -0.00433026]\n",
      "Final Estimate of b and theta: 0.013671523885197807 [0.64707386 0.54392984 0.06760601]\n"
     ]
    },
    {
     "data": {
      "image/png": "[encoded data removed]",
      "text/plain": [
       "<Figure size 640x480 with 1 Axes>"
      ]
     },
     "metadata": {},
     "output_type": "display_data"
    }
   ],
   "source": [
    "%matplotlib inline\n",
    "import matplotlib.pyplot as plt\n",
    "\n",
    "alpha_df_1, b, theta = run_gradient_descent(x, y, alpha=0.01, num_iterations=2000)\n",
    "alpha_df_2, b, theta = run_gradient_descent(x, y, alpha=0.001, num_iterations=2000)\n",
    "\n",
    "plt.plot(alpha_df_1['iteration'], alpha_df_1['cost'], label=\"alpha=0.01\")\n",
    "plt.plot(alpha_df_2['iteration'], alpha_df_2['cost'], label=\"alpha=0.001\")\n",
    "\n",
    "plt.legend()\n",
    "plt.ylabel('Cost')\n",
    "plt.xlabel('Number of iterations')\n",
    "plt.title('Cost Vs. Iterations for different alpha values')\n",
    "\n",
    "plt.show()\n"
   ]
  },
  {
   "cell_type": "markdown",
   "metadata": {},
   "source": [
    "As one can see, 0.01 is the more optimal learning rate as it converges much quicker than 0.001. 0.01 converges around the 100 mark, while 0.001 takes 1000 iterations to reach convergence.\n",
    "Hence, we have successfully built a gradient descent algorithm on python. Remember, the optimal value of learning rate will be different for each and every dataset."
   ]
  }
 ],
 "metadata": {
  "kernelspec": {
   "display_name": "base",
   "language": "python",
   "name": "python3"
  },
  "language_info": {
   "codemirror_mode": {
    "name": "ipython",
    "version": 3
   },
   "file_extension": ".py",
   "mimetype": "text/x-python",
   "name": "python",
   "nbconvert_exporter": "python",
   "pygments_lexer": "ipython3",
   "version": "3.10.9"
  },
  "orig_nbformat": 4
 },
 "nbformat": 4,
 "nbformat_minor": 2
}
