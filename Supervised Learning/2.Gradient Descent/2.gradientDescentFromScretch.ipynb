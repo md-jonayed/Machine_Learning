{
 "cells": [
  {
   "cell_type": "markdown",
   "metadata": {},
   "source": [
    "IMplementing gradient descent from scretch"
   ]
  },
  {
   "cell_type": "code",
   "execution_count": 6,
   "metadata": {},
   "outputs": [],
   "source": [
    "X = [ [1, 1500, 3, 2, 0.5, 10],\n",
    "      [1, 2000, 4, 3, 1.2, 5],\n",
    "      [1, 1800, 3, 2, 0.8, 15] ]\n",
    "Y = [250000, 320000, 280000]\n"
   ]
  },
  {
   "cell_type": "code",
   "execution_count": 7,
   "metadata": {},
   "outputs": [],
   "source": [
    "#initial theta value:\n",
    "theta0=1\n",
    "theta1=1\n",
    "theta2=1\n",
    "theta3=1\n",
    "theta4=1\n",
    "theta5=1\n",
    "# predicted value for each row\n",
    "hThetaX1=theta0*X[0][0]+theta1*X[0][1]+theta2*X[0][2]+theta3*X[0][3]+theta4*X[0][4]+theta5*X[0][5]\n",
    "# hThetaX\n",
    "hThetaX2=theta0*X[1][0]+theta1*X[1][1]+theta2*X[1][2]+theta3*X[1][3]+theta4*X[1][4]+theta5*X[1][5]\n",
    "hThetaX3=theta0*X[2][0]+theta1*X[2][1]+theta2*X[2][2]+theta3*X[2][3]+theta4*X[2][4]+theta5*X[2][5]\n",
    "# hThetaX2\n",
    "# hThetaX1\n",
    "# hThetaX3"
   ]
  },
  {
   "cell_type": "code",
   "execution_count": 8,
   "metadata": {},
   "outputs": [],
   "source": [
    "#cost function calculation :\n",
    "jThetaX1=(1/2*3)*((hThetaX1-Y[0])**2)\n",
    "jThetaX2=(1/2*3)*((hThetaX2-Y[1])**2)\n",
    "jThetaX3=(1/2*3)*((hThetaX3-Y[2])**2)\n",
    "# jThetaX1\n",
    "# jThetaX2\n",
    "# jThetaX3"
   ]
  },
  {
   "cell_type": "code",
   "execution_count": 9,
   "metadata": {},
   "outputs": [],
   "source": [
    "hThetaX1=theta0*X[0][0]+theta1*X[0][1]+theta2*X[0][2]+theta3*X[0][3]+theta4*X[0][4]+theta5*X[0][5]\n",
    "# X[0][5]\n",
    "# hThetaX\n",
    "hThetaX2=theta0*X[1][0]+theta1*X[1][1]+theta2*X[1][2]+theta3*X[1][3]+theta4*X[1][4]+theta5*X[1][5]\n",
    "hThetaX3=theta0*X[2][0]+theta1*X[2][1]+theta2*X[2][2]+theta3*X[2][3]+theta4*X[2][4]+theta5*X[2][5]\n"
   ]
  },
  {
   "cell_type": "code",
   "execution_count": 10,
   "metadata": {},
   "outputs": [],
   "source": [
    "#cost function calculation :\n",
    "jThetaX1=(1/2*3)*((hThetaX1-Y[0])**2)\n",
    "jThetaX2=(1/2*3)*((hThetaX2-Y[1])**2)\n",
    "jThetaX3=(1/2*3)*((hThetaX3-Y[2])**2)\n"
   ]
  },
  {
   "cell_type": "code",
   "execution_count": 11,
   "metadata": {},
   "outputs": [],
   "source": [
    "#gradient calculation: for x0\n",
    "delJTheta0=(1/3)*(((hThetaX1-Y[0])*X[0][0])+((hThetaX2-Y[1])*X[0][0])+((hThetaX3-Y[2])*X[0][0]))\n",
    "# delJTheta0\n",
    "delJTheta1=(1/3)*(((hThetaX1-Y[0])*X[0][1])+((hThetaX2-Y[1])*X[0][1])+((hThetaX3-Y[2])*X[0][1]))\n",
    "# delJTheta1\n",
    "delJTheta2=(1/3)*(((hThetaX1-Y[0])*X[0][2])+((hThetaX2-Y[1])*X[0][2])+((hThetaX3-Y[2])*X[0][2]))\n",
    "# delJTheta2\n",
    "delJTheta3=(1/3)*(((hThetaX1-Y[0])*X[0][3])+((hThetaX2-Y[1])*X[0][3])+((hThetaX3-Y[2])*X[0][3]))\n",
    "# delJTheta3\n",
    "delJTheta4=(1/3)*(((hThetaX1-Y[0])*X[0][4])+((hThetaX2-Y[1])*X[0][4])+((hThetaX3-Y[2])*X[0][4]))\n",
    "# delJTheta4\n",
    "delJTheta5=(1/3)*(((hThetaX1-Y[0])*X[0][5])+((hThetaX2-Y[1])*X[0][5])+((hThetaX3-Y[2])*X[0][5]))\n",
    "# delJTheta5\n",
    "# int the same way we will calculate gradient for x1,x2,x3,x4 and x5"
   ]
  },
  {
   "cell_type": "code",
   "execution_count": 12,
   "metadata": {},
   "outputs": [],
   "source": [
    "# learning rate declaration:\n",
    "alpha=0.1"
   ]
  },
  {
   "cell_type": "code",
   "execution_count": 13,
   "metadata": {},
   "outputs": [
    {
     "name": "stdout",
     "output_type": "stream",
     "text": [
      "28155.916666666664\n",
      "42232376.0\n",
      "84465.75\n",
      "56310.83333333333\n",
      "14078.458333333332\n",
      "281550.1666666667\n"
     ]
    }
   ],
   "source": [
    "#new theta calculation : \n",
    "theta0=(theta0-(alpha*delJTheta0))\n",
    "theta1=(theta1-(alpha*delJTheta1))\n",
    "theta2=(theta2-(alpha*delJTheta2))\n",
    "theta3=(theta3-(alpha*delJTheta3))\n",
    "theta4=(theta4-(alpha*delJTheta4))\n",
    "theta5=(theta5-(alpha*delJTheta5))\n",
    "\n",
    "print(theta0)\n",
    "print(theta1)\n",
    "print(theta2)\n",
    "print(theta3)\n",
    "print(theta4)\n",
    "print(theta5)\n"
   ]
  }
 ],
 "metadata": {
  "kernelspec": {
   "display_name": "base",
   "language": "python",
   "name": "python3"
  },
  "language_info": {
   "codemirror_mode": {
    "name": "ipython",
    "version": 3
   },
   "file_extension": ".py",
   "mimetype": "text/x-python",
   "name": "python",
   "nbconvert_exporter": "python",
   "pygments_lexer": "ipython3",
   "version": "3.10.9"
  },
  "orig_nbformat": 4
 },
 "nbformat": 4,
 "nbformat_minor": 2
}
