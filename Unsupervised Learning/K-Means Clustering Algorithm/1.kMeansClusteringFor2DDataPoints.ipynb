{
 "cells": [
  {
   "cell_type": "markdown",
   "metadata": {},
   "source": [
    "implementation of k means clustering algorithm "
   ]
  },
  {
   "cell_type": "code",
   "execution_count": 182,
   "metadata": {},
   "outputs": [
    {
     "data": {
      "text/plain": [
       "[2, 4, 5, 7, 9, 10, 12, 15, 3, 1, 6]"
      ]
     },
     "execution_count": 182,
     "metadata": {},
     "output_type": "execute_result"
    }
   ],
   "source": [
    "l1=[2, 4, 5, 7, 9, 10, 12, 15,3,1,6]\n",
    "c1=6\n",
    "c2=12\n",
    "l1"
   ]
  },
  {
   "cell_type": "code",
   "execution_count": 183,
   "metadata": {},
   "outputs": [],
   "source": [
    "for i in range(0,3):\n",
    "    k1=[]\n",
    "    k2=[]\n",
    "    for j in range(0,len(l1)):\n",
    "        val1=abs(l1[j]-c1)\n",
    "        val2=abs(l1[j]-c2)\n",
    "        if(val1<val2):\n",
    "            k1.append(l1[j])\n",
    "        else:\n",
    "            k2.append(l1[j])\n",
    "    sum1=0\n",
    "    for i in k1:\n",
    "        sum1=sum1+i\n",
    "    sum2=0\n",
    "    for i in k2:\n",
    "        sum2=sum2+i\n",
    "    c1=sum1/len(k1) \n",
    "    c2=sum2/len(k2)   "
   ]
  },
  {
   "cell_type": "code",
   "execution_count": 184,
   "metadata": {},
   "outputs": [
    {
     "name": "stdout",
     "output_type": "stream",
     "text": [
      "4.0 11.5\n"
     ]
    }
   ],
   "source": [
    "print(c1,c2)\n"
   ]
  }
 ],
 "metadata": {
  "kernelspec": {
   "display_name": "base",
   "language": "python",
   "name": "python3"
  },
  "language_info": {
   "codemirror_mode": {
    "name": "ipython",
    "version": 3
   },
   "file_extension": ".py",
   "mimetype": "text/x-python",
   "name": "python",
   "nbconvert_exporter": "python",
   "pygments_lexer": "ipython3",
   "version": "3.10.9"
  },
  "orig_nbformat": 4
 },
 "nbformat": 4,
 "nbformat_minor": 2
}
