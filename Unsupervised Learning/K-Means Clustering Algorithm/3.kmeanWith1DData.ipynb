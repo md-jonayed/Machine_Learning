{
 "cells": [
  {
   "cell_type": "code",
   "execution_count": 1,
   "metadata": {},
   "outputs": [
    {
     "name": "stdout",
     "output_type": "stream",
     "text": [
      "Cluster 1: [2, 4, 5, 7]\n",
      "Cluster 2: [9, 10, 12, 15]\n"
     ]
    }
   ],
   "source": [
    "import numpy as np\n",
    "\n",
    "def k_means_clustering(data, k, max_iterations=100):\n",
    "    # Randomly initialize centroids\n",
    "    centroids = np.random.choice(data, k)\n",
    "    \n",
    "    for _ in range(max_iterations):\n",
    "        # Assign data points to clusters based on nearest centroid\n",
    "        clusters = {i: [] for i in range(k)}\n",
    "        for point in data:\n",
    "            distances = [abs(point - centroid) for centroid in centroids]\n",
    "            nearest_centroid_index = np.argmin(distances)\n",
    "            clusters[nearest_centroid_index].append(point)\n",
    "        \n",
    "        # Update centroids based on mean of data points in each cluster\n",
    "        new_centroids = [np.mean(clusters[i]) for i in range(k)]\n",
    "        \n",
    "        # Check for convergence\n",
    "        if np.allclose(centroids, new_centroids):\n",
    "            break\n",
    "        \n",
    "        centroids = new_centroids\n",
    "    \n",
    "    return clusters\n",
    "\n",
    "# Example data points\n",
    "data_points = np.array([2, 4, 5, 7, 9, 10, 12, 15])\n",
    "\n",
    "# Number of clusters (K)\n",
    "k_value = 2\n",
    "\n",
    "# Perform K-means clustering\n",
    "clusters_result = k_means_clustering(data_points, k_value)\n",
    "\n",
    "# Print the clusters\n",
    "for i, cluster in clusters_result.items():\n",
    "    print(f\"Cluster {i + 1}: {cluster}\")\n"
   ]
  }
 ],
 "metadata": {
  "kernelspec": {
   "display_name": "base",
   "language": "python",
   "name": "python3"
  },
  "language_info": {
   "codemirror_mode": {
    "name": "ipython",
    "version": 3
   },
   "file_extension": ".py",
   "mimetype": "text/x-python",
   "name": "python",
   "nbconvert_exporter": "python",
   "pygments_lexer": "ipython3",
   "version": "3.10.9"
  },
  "orig_nbformat": 4
 },
 "nbformat": 4,
 "nbformat_minor": 2
}
